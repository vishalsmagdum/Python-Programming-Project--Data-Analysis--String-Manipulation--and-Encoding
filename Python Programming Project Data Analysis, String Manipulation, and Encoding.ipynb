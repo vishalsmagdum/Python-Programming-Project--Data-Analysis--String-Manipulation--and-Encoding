{
 "cells": [
  {
   "cell_type": "markdown",
   "metadata": {
    "id": "3c9aR19dB9un"
   },
   "source": [
    "Q1: You are working in a bank, and you have been given two lists of the employees who worked\n",
    "\n",
    "in 2021. Employees’ names in list 1 are Ramesh, Suresh, Mahesh, Ali, Jacob, and\n",
    "\n",
    "Saritha. List 2 contains the names of Ali, Mukesh, Mahesh, Jacob, Sai, and Sarita.\n",
    "\n",
    "Please write a program that helps to identify people who are common in both lists.\n",
    "\n",
    "Please do not use any in-built function."
   ]
  },
  {
   "cell_type": "code",
   "execution_count": 1,
   "metadata": {
    "colab": {
     "base_uri": "https://localhost:8080/"
    },
    "id": "PJhaAH6kcPEq",
    "outputId": "2f82370b-4a13-4b18-87ea-fe3b22dd26cf"
   },
   "outputs": [
    {
     "name": "stdout",
     "output_type": "stream",
     "text": [
      "Common Employees in both lists are: ['Mahesh', 'Ali', 'Jacob']\n"
     ]
    }
   ],
   "source": [
    "\n",
    "list_1= [\"Ramesh\", \"Suresh\", \"Mahesh\", \"Ali\", \"Jacob\", \"Saritha\"]\n",
    "list_2= [\"Ali\", \"Mukesh\", \"Mahesh\", \"Jacob\", \"Sai\",  \"Sarita\"]\n",
    "\n",
    "common_employees_2021 = [] # Created empty list to put common names in it.\n",
    "\n",
    "for employee in list_1:\n",
    "  if employee in list_2:\n",
    "    common_employees_2021.append(employee)  # It adds common names to common_employees_2021.\n",
    "\n",
    "print(\"Common Employees in both lists are:\", common_employees_2021)"
   ]
  },
  {
   "cell_type": "code",
   "execution_count": 11,
   "metadata": {
    "colab": {
     "base_uri": "https://localhost:8080/"
    },
    "id": "h_06wI9Zy8My",
    "outputId": "5f38431b-791f-46df-bfef-ab3347f999ce"
   },
   "outputs": [
    {
     "name": "stdout",
     "output_type": "stream",
     "text": [
      "Common Employees in both lists are: {'Jacob', 'Mahesh', 'Ali'}\n"
     ]
    }
   ],
   "source": [
    "# With Intersection method.\n",
    "\n",
    "list_1= [\"Ramesh\", \"Suresh\", \"Mahesh\", \"Ali\", \"Jacob\", \"Saritha\"]\n",
    "list_2= [\"Ali\", \"Mukesh\", \"Mahesh\", \"Jacob\", \"Sai\",  \"Sarita\"]\n",
    "\n",
    "a= set(list_1).intersection(set(list_2))    # Saritha and Sarita are different names.\n",
    "print(\"Common Employees in both lists are:\", a)"
   ]
  },
  {
   "cell_type": "markdown",
   "metadata": {
    "id": "GlgBucP4CPyY"
   },
   "source": [
    "Q2: While entering data, someone entered a few names as a common string “Ramesh Suresh Mohit”.\n",
    "Please write a program which separates all the names and converts them into a list.\n",
    "Once converted into a list, please write a program that adds their age.\n",
    "\n",
    "Ramesh:  25\n",
    "\n",
    "Suresh: 22\n",
    "\n",
    "Mohit: 26"
   ]
  },
  {
   "cell_type": "code",
   "execution_count": null,
   "metadata": {
    "colab": {
     "base_uri": "https://localhost:8080/"
    },
    "id": "zc-aPN_kcWJX",
    "outputId": "639e66ba-23ff-4ed0-f88c-b2b316485b4d"
   },
   "outputs": [
    {
     "name": "stdout",
     "output_type": "stream",
     "text": [
      "Ramesh Suresh Mohit\n",
      "['Ramesh', 'Suresh', 'Mohit']\n",
      "Ramesh: 25\n",
      "Suresh: 22\n",
      "Mohit: 26\n",
      "[('Ramesh', 25), ('Suresh', 22), ('Mohit', 26)]\n",
      "Sum of ages of ['Ramesh', 'Suresh', 'Mohit'] is = 73 years.\n"
     ]
    }
   ],
   "source": [
    "\n",
    "name_string= str(input(\"\"))                             #\"Ramesh Suresh Mohit\"\n",
    "Names= name_string.split()\n",
    "print(Names)                                # It will print each names separately.\n",
    "\n",
    "Ramesh_age= int(input(\"Ramesh: \"))\n",
    "Suresh_age= int(input(\"Suresh: \"))\n",
    "Mohit_age= int(input(\"Mohit: \"))\n",
    "\n",
    "\n",
    "Age= [25,22,26]\n",
    "\n",
    "Name_with_age= zip(Names,Age)\n",
    "\n",
    "print(list(Name_with_age)) # It will print zipped name with person's age. It will put result in list.\n",
    "\n",
    "Sum_of_Age=sum(Age)\n",
    "\n",
    "# It will print sum of Age.\n",
    "print(\"Sum of ages of {} is = {} years.\".format(Names,Sum_of_Age))\n"
   ]
  },
  {
   "cell_type": "markdown",
   "metadata": {
    "id": "7ySkSeVkCm5q"
   },
   "source": [
    "Q3: You are working in a medical store.\n",
    "\n",
    "A patient came to your medical store and asked to buy 2 strips of paracetamol,\n",
    "\n",
    "3 strips of azithromycin, and 5 strips of Vitamin C.\n",
    "\n",
    "One strip of paracetamol costs Rs 35, one strip of azithromycin costs Rs 49,\n",
    "\n",
    "and one strip of vitamin c costs Rs. 33. Patient gave you Rs 2000.\n",
    "\n",
    "Please tell us what is the total cost of each medicine, the total cost of all medicine,\n",
    "\n",
    "and how much money you refunded to the patient."
   ]
  },
  {
   "cell_type": "code",
   "execution_count": null,
   "metadata": {
    "colab": {
     "base_uri": "https://localhost:8080/"
    },
    "id": "r67NPv2CcWMl",
    "outputId": "fab54d6e-8c32-49df-85dd-8da1aca5d888"
   },
   "outputs": [
    {
     "name": "stdout",
     "output_type": "stream",
     "text": [
      "Paracetamol_cost: 35\n",
      "Azithromycin_cost: 49\n",
      "Vitamin_C_cost: 33\n",
      "Paracetamol_quantity: 2\n",
      "Azithromycin_quantity: 3\n",
      "Vitamin_C_quantity: 5\n",
      "Amount paid by customer: 2000\n",
      "Cost of Paracetamol is:  70\n",
      "Cost of Azithromycin is:  147\n",
      "Cost of Vitamin_C is:  165\n",
      "Total cost of all medicine is:  382\n",
      "Total amount needs to return to customer:  1618\n"
     ]
    }
   ],
   "source": [
    "\n",
    "Paracetamol_cost= int(input(\"Paracetamol_cost: \"))        # 35       # Cost of each Medicine.\n",
    "Azithromycin_cost= int(input(\"Azithromycin_cost: \"))      # 49\n",
    "Vitamin_C_cost= int(input(\"Vitamin_C_cost: \"))             # 33\n",
    "\n",
    "Paracetamol_quantity = int(input(\"Paracetamol_quantity: \"))    #2   # Quantity of each Medicine.\n",
    "Azithromycin_quantity = int(input(\"Azithromycin_quantity: \"))   #3\n",
    "Vitamin_C_quantity = int(input(\"Vitamin_C_quantity: \"))         #5\n",
    "\n",
    "Paracetamol_total = Paracetamol_cost * Paracetamol_quantity\n",
    "Azithromycin_total = Azithromycin_cost * Azithromycin_quantity\n",
    "Vitamin_C_total = Vitamin_C_cost * Vitamin_C_quantity\n",
    "\n",
    "Total_cost=(Paracetamol_total + Azithromycin_total + Vitamin_C_total) # Total cost of Medicine.\n",
    "\n",
    "Amount_paid= int(input(\"Amount paid by customer: \"))         #2000    # Amount paid by customer.\n",
    "\n",
    "Return_amount= (Amount_paid - Total_cost)                 # Money need to return to customer.\n",
    "\n",
    "print(\"Cost of Paracetamol is: \",Paracetamol_total)\n",
    "print(\"Cost of Azithromycin is: \",Azithromycin_total)\n",
    "print(\"Cost of Vitamin_C is: \",Vitamin_C_total)\n",
    "\n",
    "print(\"Total cost of all medicine is: \",Total_cost)\n",
    "\n",
    "print(\"Total amount needs to return to customer: \",Return_amount)"
   ]
  },
  {
   "cell_type": "markdown",
   "metadata": {
    "id": "unkZrmSYCuvG"
   },
   "source": [
    "Q4: Accept a sentence as input and find the number of vowels in it.\n",
    "\n",
    "Assume that the sentence has no punctuation marks.\n",
    "\n",
    "For example, \"I am learning python\" contains 6 vowels.\n",
    "\n",
    "This function should be applicable for all other different sentences."
   ]
  },
  {
   "cell_type": "code",
   "execution_count": 2,
   "metadata": {
    "colab": {
     "base_uri": "https://localhost:8080/"
    },
    "id": "VB2OUCA2NT7u",
    "outputId": "a2f4cf32-ac89-465a-b26b-b1e85ab4458f"
   },
   "outputs": [
    {
     "name": "stdout",
     "output_type": "stream",
     "text": [
      "My name is VIShal\n",
      "The sentence 'My name is VIShal' contains= 5 Vowels.\n"
     ]
    }
   ],
   "source": [
    "sentence = str(input(\"\"))              # User need to input string.\n",
    "\n",
    "vowels = \"aeiouAEIOU\"               # Vowels in UPPER and lower case.\n",
    "count = 0\n",
    "\n",
    "for alphabet in sentence:           # Each alphabet is cheked from sentence.\n",
    "  if alphabet in vowels:            # Then particular alphabet is compared with vowels.\n",
    "    count =count + 1\n",
    "\n",
    "print(\"The sentence '{}' contains= {} Vowels.\".format(sentence,count))"
   ]
  },
  {
   "cell_type": "markdown",
   "metadata": {
    "id": "_nk7ZuOjDAbF"
   },
   "source": [
    "Q5: You have been appointed by the election commission to create a website.\n",
    "\n",
    "Your first task is to work on a program which tells candidates if they are eligible for voting\n",
    "\n",
    "or not. If they are eligible, your output should be ‘Congrats! You are eligible’; otherwise,\n",
    "\n",
    "it should tell that you have to return after X number of years.\n",
    "\n",
    "The eligibility criteria for voting is 18 years.\n",
    "\n",
    "\n",
    "For example, If someone is 18 or above, your output should be ‘Congrats! You are eligible’.\n",
    "\n",
    "If someone’s age is 15 years, it should print output as ‘return after 3 years’."
   ]
  },
  {
   "cell_type": "code",
   "execution_count": 3,
   "metadata": {
    "colab": {
     "base_uri": "https://localhost:8080/"
    },
    "id": "tuSq9YIZcWR8",
    "outputId": "02f9cdd9-b785-4810-d401-8b6607ae4e31"
   },
   "outputs": [
    {
     "name": "stdout",
     "output_type": "stream",
     "text": [
      "Enter your age here: 14\n",
      "You are not eligible\n",
      "Please return after 4 years.\n"
     ]
    }
   ],
   "source": [
    "Age=int(input(\"Enter your age here: \"))     # Age (in years) entered by User.\n",
    "Voting_age= 18\n",
    "Eligible_after= Voting_age - Age            # How many years need to complete to be a voter.\n",
    "\n",
    "if Age >= Voting_age:\n",
    "  print(\"Congrats! You are eligible.\")\n",
    "else:\n",
    "  print(\"You are not eligible\")\n",
    "  print(\"Please return after {} years.\".format(Eligible_after))\n",
    "\n",
    "# Returns entered Age of voter, returns eligibilty of voter and years need to be complete\n",
    "# to become eligible voter."
   ]
  },
  {
   "cell_type": "markdown",
   "metadata": {
    "id": "EeD0-XAZDIYQ"
   },
   "source": [
    "Q6: Given a list of integers, find the cumulative sum of the elements of the list and\n",
    "\n",
    "store them in another list.\n",
    "\n",
    "A = [1, 2, 3, 4, 5]\n",
    "\n",
    "Output:\n",
    "\n",
    "[1, 3, 6, 10, 15]"
   ]
  },
  {
   "cell_type": "code",
   "execution_count": null,
   "metadata": {
    "colab": {
     "base_uri": "https://localhost:8080/"
    },
    "id": "XO0gLzqvcWVB",
    "outputId": "dcb794a2-65ed-4da1-f5ab-1cc4e08459fe"
   },
   "outputs": [
    {
     "name": "stdout",
     "output_type": "stream",
     "text": [
      "[1, 3, 6, 10, 15]\n"
     ]
    }
   ],
   "source": [
    "A= [1,2,3,4,5]\n",
    "cumulative_sum=[]             # Empty list.\n",
    "sum=0\n",
    "\n",
    "for num in A:\n",
    "  sum= sum + num\n",
    "  cumulative_sum.append(sum)     # Cumulative sum is appended to empty list.\n",
    "\n",
    "print(cumulative_sum)"
   ]
  },
  {
   "cell_type": "markdown",
   "metadata": {
    "id": "mVHUQfafDO_h"
   },
   "source": [
    "Q7:\n",
    "\n",
    "WAP to encode a message entered by user as per below conditions:\n",
    "\n",
    "for every word in the sentence,\n",
    "\n",
    "1. If the word starts with a vowel, encode it as first and last letter of the word.\n",
    "\n",
    "2. If the word starts with a consonant, remove all vowels from it.\n",
    "\n",
    "\n",
    "Ensure the case insensitive comparisions/checks are performed.\n",
    "\n",
    "\n",
    "Please enter your text:\"The quick brown fox used to sleep inside this box\"\n",
    "\n",
    "Encoded Msg: Th qck brwn fx ud t slp ie ths bx"
   ]
  },
  {
   "cell_type": "code",
   "execution_count": null,
   "metadata": {
    "colab": {
     "base_uri": "https://localhost:8080/"
    },
    "id": "3J6hSeCBPiJd",
    "outputId": "33a31011-216e-4d58-e378-469a6315f568"
   },
   "outputs": [
    {
     "name": "stdout",
     "output_type": "stream",
     "text": [
      "Please enter your text: The quick brown fox used to sleep inside this box\n",
      "Encoded Msg: Th qck brwn fx ud t slp ie ths bx\n"
     ]
    }
   ],
   "source": [
    "sentence = input(\"Please enter your text: \")\n",
    "\n",
    "vowels = \"aeiouAEIOU\"\n",
    "encoded_words = []\n",
    "\n",
    "# Split the sentence into individual words\n",
    "words = sentence.split()\n",
    "\n",
    "\n",
    "for word in words:\n",
    "  if word[0] in vowels:\n",
    "    # Encode the word as the first and last letter\n",
    "    encoded_words.append(word[0] + word[-1])\n",
    "  else:\n",
    "    # Remove vowels from the word\n",
    "    encoded_word = \"\"\n",
    "    for char in word:\n",
    "      if char not in vowels:\n",
    "        encoded_word= encoded_word + char\n",
    "    encoded_words.append(encoded_word)\n",
    "\n",
    "\n",
    "# Join the encoded words back into a sentence\n",
    "encoded_sentence = \" \".join(encoded_words)\n",
    "\n",
    "\n",
    "# Print the encoded message\n",
    "print(\"Encoded Msg:\", encoded_sentence)"
   ]
  },
  {
   "cell_type": "markdown",
   "metadata": {
    "id": "J3lcvrXSDYCT"
   },
   "source": [
    "Q8.\n",
    "Write a program to implement run length encoding of a string\n",
    "\n",
    "RLE:Consecutive repetition of a character has to be replaced with the count of occurances\n",
    "\n",
    "and the character.\n",
    "\n",
    "\n",
    "Enter your string: aabbbccdddae\n",
    "\n",
    "Encoded: 2a3b2c3d1a1e"
   ]
  },
  {
   "cell_type": "code",
   "execution_count": null,
   "metadata": {
    "colab": {
     "base_uri": "https://localhost:8080/"
    },
    "id": "9DT1JJuuRb3w",
    "outputId": "4d698876-bf3d-44c5-e1aa-f4af8feea845"
   },
   "outputs": [
    {
     "name": "stdout",
     "output_type": "stream",
     "text": [
      "Enter your string: aabbbccdddae\n",
      "Encoded: 2a3b2c3d1a1e\n"
     ]
    }
   ],
   "source": [
    "string=input(\"Enter your string: \")\n",
    "\n",
    "encoded_string = \"\"\n",
    "count = 1\n",
    "n = len(string)             # Here it will consider lenght of entire string.\n",
    "\n",
    "for alphabet in range(1, n):\n",
    "  if string[alphabet] == string[alphabet-1]:  # It will compare particular index with previous index.\n",
    "    count= count + 1                          # If matches it adds 1.\n",
    "  else:\n",
    "    encoded_string= encoded_string + str(count) + string[alphabet-1]    # Gives count of alphabets plus previous alphabet.\n",
    "    count = 1\n",
    "\n",
    "encoded_string= encoded_string + str(count) + string[n-1]\n",
    "\n",
    "print(\"Encoded: \" + encoded_string)"
   ]
  }
 ],
 "metadata": {
  "colab": {
   "provenance": []
  },
  "kernelspec": {
   "display_name": "Python 3 (ipykernel)",
   "language": "python",
   "name": "python3"
  },
  "language_info": {
   "codemirror_mode": {
    "name": "ipython",
    "version": 3
   },
   "file_extension": ".py",
   "mimetype": "text/x-python",
   "name": "python",
   "nbconvert_exporter": "python",
   "pygments_lexer": "ipython3",
   "version": "3.11.4"
  }
 },
 "nbformat": 4,
 "nbformat_minor": 1
}
